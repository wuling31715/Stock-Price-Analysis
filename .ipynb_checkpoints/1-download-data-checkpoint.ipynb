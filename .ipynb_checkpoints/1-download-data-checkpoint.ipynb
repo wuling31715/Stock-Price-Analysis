{
 "cells": [
  {
   "cell_type": "code",
   "execution_count": 1,
   "metadata": {},
   "outputs": [],
   "source": [
    "import pandas as pd\n",
    "import requests\n",
    "from datetime import datetime"
   ]
  },
  {
   "cell_type": "code",
   "execution_count": 2,
   "metadata": {},
   "outputs": [
    {
     "data": {
      "text/html": [
       "<div>\n",
       "<style scoped>\n",
       "    .dataframe tbody tr th:only-of-type {\n",
       "        vertical-align: middle;\n",
       "    }\n",
       "\n",
       "    .dataframe tbody tr th {\n",
       "        vertical-align: top;\n",
       "    }\n",
       "\n",
       "    .dataframe thead th {\n",
       "        text-align: right;\n",
       "    }\n",
       "</style>\n",
       "<table border=\"1\" class=\"dataframe\">\n",
       "  <thead>\n",
       "    <tr style=\"text-align: right;\">\n",
       "      <th></th>\n",
       "      <th>symbol</th>\n",
       "      <th>name</th>\n",
       "      <th>type</th>\n",
       "    </tr>\n",
       "  </thead>\n",
       "  <tbody>\n",
       "    <tr>\n",
       "      <th>0</th>\n",
       "      <td>2330.TW</td>\n",
       "      <td>台積電</td>\n",
       "      <td>科技股</td>\n",
       "    </tr>\n",
       "    <tr>\n",
       "      <th>1</th>\n",
       "      <td>2454.TW</td>\n",
       "      <td>聯發科</td>\n",
       "      <td>科技股</td>\n",
       "    </tr>\n",
       "    <tr>\n",
       "      <th>2</th>\n",
       "      <td>2317.TW</td>\n",
       "      <td>鴻海</td>\n",
       "      <td>科技股</td>\n",
       "    </tr>\n",
       "    <tr>\n",
       "      <th>3</th>\n",
       "      <td>0050.TW</td>\n",
       "      <td>元大台灣50</td>\n",
       "      <td>ETF</td>\n",
       "    </tr>\n",
       "    <tr>\n",
       "      <th>4</th>\n",
       "      <td>0056.TW</td>\n",
       "      <td>元大高股息</td>\n",
       "      <td>ETF</td>\n",
       "    </tr>\n",
       "    <tr>\n",
       "      <th>5</th>\n",
       "      <td>2412.TW</td>\n",
       "      <td>中華電信</td>\n",
       "      <td>傳產股</td>\n",
       "    </tr>\n",
       "    <tr>\n",
       "      <th>6</th>\n",
       "      <td>2884.TW</td>\n",
       "      <td>玉山金</td>\n",
       "      <td>金融股</td>\n",
       "    </tr>\n",
       "    <tr>\n",
       "      <th>7</th>\n",
       "      <td>2886.TW</td>\n",
       "      <td>兆豐金</td>\n",
       "      <td>金融股</td>\n",
       "    </tr>\n",
       "    <tr>\n",
       "      <th>8</th>\n",
       "      <td>2891.TW</td>\n",
       "      <td>中信金</td>\n",
       "      <td>金融股</td>\n",
       "    </tr>\n",
       "    <tr>\n",
       "      <th>9</th>\n",
       "      <td>2603.TW</td>\n",
       "      <td>長榮</td>\n",
       "      <td>海運股</td>\n",
       "    </tr>\n",
       "    <tr>\n",
       "      <th>10</th>\n",
       "      <td>2609.TW</td>\n",
       "      <td>陽明</td>\n",
       "      <td>海運股</td>\n",
       "    </tr>\n",
       "    <tr>\n",
       "      <th>11</th>\n",
       "      <td>2615.TW</td>\n",
       "      <td>萬海</td>\n",
       "      <td>海運股</td>\n",
       "    </tr>\n",
       "  </tbody>\n",
       "</table>\n",
       "</div>"
      ],
      "text/plain": [
       "     symbol    name type\n",
       "0   2330.TW     台積電  科技股\n",
       "1   2454.TW     聯發科  科技股\n",
       "2   2317.TW      鴻海  科技股\n",
       "3   0050.TW  元大台灣50  ETF\n",
       "4   0056.TW   元大高股息  ETF\n",
       "5   2412.TW    中華電信  傳產股\n",
       "6   2884.TW     玉山金  金融股\n",
       "7   2886.TW     兆豐金  金融股\n",
       "8   2891.TW     中信金  金融股\n",
       "9   2603.TW      長榮  海運股\n",
       "10  2609.TW      陽明  海運股\n",
       "11  2615.TW      萬海  海運股"
      ]
     },
     "execution_count": 2,
     "metadata": {},
     "output_type": "execute_result"
    }
   ],
   "source": [
    "df = pd.read_excel('Target.xlsx')\n",
    "df"
   ]
  },
  {
   "cell_type": "code",
   "execution_count": 3,
   "metadata": {},
   "outputs": [
    {
     "data": {
      "text/plain": [
       "['2330.TW',\n",
       " '2454.TW',\n",
       " '2317.TW',\n",
       " '0050.TW',\n",
       " '0056.TW',\n",
       " '2412.TW',\n",
       " '2884.TW',\n",
       " '2886.TW',\n",
       " '2891.TW',\n",
       " '2603.TW',\n",
       " '2609.TW',\n",
       " '2615.TW']"
      ]
     },
     "execution_count": 3,
     "metadata": {},
     "output_type": "execute_result"
    }
   ],
   "source": [
    "symbol_list = df['symbol'].tolist()\n",
    "symbol_list"
   ]
  },
  {
   "cell_type": "code",
   "execution_count": 4,
   "metadata": {},
   "outputs": [],
   "source": [
    "def timestamp_to_datetime(timestamp):\n",
    "    datetime_object = datetime.fromtimestamp(timestamp)\n",
    "    year = datetime_object.year\n",
    "    month = datetime_object.month\n",
    "    day = datetime_object.day\n",
    "    return '{:04d}-{:02d}-{:02d}'.format(year, month, day)"
   ]
  },
  {
   "cell_type": "code",
   "execution_count": 5,
   "metadata": {},
   "outputs": [
    {
     "name": "stdout",
     "output_type": "stream",
     "text": [
      "2000-01-01\n",
      "2021-07-12\n"
     ]
    }
   ],
   "source": [
    "timestamp_start = datetime(2000, 1, 1).timestamp()\n",
    "timestamp_end = datetime.timestamp(datetime.now())\n",
    "print(timestamp_to_datetime(timestamp_start))\n",
    "print(timestamp_to_datetime(timestamp_end))"
   ]
  },
  {
   "cell_type": "code",
   "execution_count": 6,
   "metadata": {},
   "outputs": [],
   "source": [
    "path = 'api-key/api-key.txt'\n",
    "with open(path) as f:\n",
    "    api_key = f.readline()"
   ]
  },
  {
   "cell_type": "code",
   "execution_count": 7,
   "metadata": {},
   "outputs": [
    {
     "name": "stdout",
     "output_type": "stream",
     "text": [
      "2330.TW <Response [200]>\n",
      "2330.TW done\n",
      "2454.TW <Response [200]>\n",
      "2454.TW done\n",
      "2317.TW <Response [200]>\n",
      "2317.TW done\n",
      "0050.TW <Response [200]>\n",
      "0050.TW done\n",
      "0056.TW <Response [200]>\n",
      "0056.TW done\n",
      "2412.TW <Response [200]>\n",
      "2412.TW done\n",
      "2884.TW <Response [200]>\n",
      "2884.TW done\n",
      "2886.TW <Response [200]>\n",
      "2886.TW done\n",
      "2891.TW <Response [200]>\n",
      "2891.TW done\n",
      "2603.TW <Response [200]>\n",
      "2603.TW done\n",
      "2609.TW <Response [200]>\n",
      "2609.TW done\n",
      "2615.TW <Response [200]>\n",
      "2615.TW done\n"
     ]
    }
   ],
   "source": [
    "%%time\n",
    "for symbol in symbol_list:\n",
    "    url = \"https://apidojo-yahoo-finance-v1.p.rapidapi.com/stock/v2/get-historical-data\"\n",
    "    querystring = {\n",
    "        \"period1\":int(timestamp_start),\n",
    "        \"period2\":int(timestamp_end),\n",
    "        \"symbol\":\"{}\".format(symbol),\n",
    "        \"frequency\":\"1d\",\n",
    "        \"filter\":\"history\"\n",
    "    }\n",
    "    headers = {\n",
    "        'x-rapidapi-key': \"{}\".format(api_key),\n",
    "        'x-rapidapi-host': \"apidojo-yahoo-finance-v1.p.rapidapi.com\"\n",
    "        }\n",
    "    response = requests.request(\"GET\", url, headers=headers, params=querystring)\n",
    "    print('{} {}'.format(symbol, response))\n",
    "    path = 'data/{}.json'.format(symbol)\n",
    "    with open(path, 'w') as f:\n",
    "        f.write(response.text)\n",
    "    print('{} done'.format(symbol))"
   ]
  },
  {
   "cell_type": "code",
   "execution_count": null,
   "metadata": {},
   "outputs": [],
   "source": []
  }
 ],
 "metadata": {
  "kernelspec": {
   "display_name": "Python 3",
   "language": "python",
   "name": "python3"
  },
  "language_info": {
   "codemirror_mode": {
    "name": "ipython",
    "version": 3
   },
   "file_extension": ".py",
   "mimetype": "text/x-python",
   "name": "python",
   "nbconvert_exporter": "python",
   "pygments_lexer": "ipython3",
   "version": "3.6.12"
  }
 },
 "nbformat": 4,
 "nbformat_minor": 4
}
