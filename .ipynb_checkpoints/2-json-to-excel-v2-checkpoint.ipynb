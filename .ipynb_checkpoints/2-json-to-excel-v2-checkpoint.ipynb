{
 "cells": [
  {
   "cell_type": "code",
   "execution_count": 1,
   "metadata": {},
   "outputs": [],
   "source": [
    "import pandas as pd\n",
    "import json\n",
    "import os\n",
    "from datetime import datetime"
   ]
  },
  {
   "cell_type": "code",
   "execution_count": 2,
   "metadata": {},
   "outputs": [
    {
     "name": "stdout",
     "output_type": "stream",
     "text": [
      "data/0050.TW exist\n",
      "data/0056.TW exist\n",
      "data/2317.TW exist\n",
      "data/2330.TW exist\n",
      "data/2412.TW exist\n",
      "data/2454.TW exist\n",
      "data/2603.TW exist\n",
      "data/2609.TW exist\n",
      "data/2615.TW exist\n",
      "data/2884.TW exist\n",
      "data/2886.TW exist\n",
      "data/2891.TW exist\n"
     ]
    },
    {
     "data": {
      "text/plain": [
       "['0050.TW',\n",
       " '0056.TW',\n",
       " '2317.TW',\n",
       " '2330.TW',\n",
       " '2412.TW',\n",
       " '2454.TW',\n",
       " '2603.TW',\n",
       " '2609.TW',\n",
       " '2615.TW',\n",
       " '2884.TW',\n",
       " '2886.TW',\n",
       " '2891.TW']"
      ]
     },
     "execution_count": 2,
     "metadata": {},
     "output_type": "execute_result"
    }
   ],
   "source": [
    "root = 'data'\n",
    "symbol_list = list()\n",
    "for file in os.listdir(root):\n",
    "    if '.json' in file:\n",
    "        symbol = file.split('.json')[0]\n",
    "        path = '{}/{}'.format(root, symbol)\n",
    "        if os.path.isdir(path):\n",
    "            print('{} exist'.format(path))\n",
    "        else:\n",
    "            cmd = 'mkdir data/{}'.format(symbol)\n",
    "            os.system(cmd)\n",
    "            print('{} done'.format(path))\n",
    "        symbol_list.append(symbol)\n",
    "symbol_list        "
   ]
  },
  {
   "cell_type": "code",
   "execution_count": 3,
   "metadata": {},
   "outputs": [],
   "source": [
    "def timestamp_to_datetime(timestamp):\n",
    "    datetime_object = datetime.fromtimestamp(timestamp)\n",
    "    year = datetime_object.year\n",
    "    month = datetime_object.month\n",
    "    day = datetime_object.day\n",
    "    return '{:04d}-{:02d}-{:02d}'.format(year, month, day)"
   ]
  },
  {
   "cell_type": "code",
   "execution_count": null,
   "metadata": {},
   "outputs": [],
   "source": [
    "%%time\n",
    "for symbol in symbol_list:\n",
    "    path = 'data/{}.json'.format(symbol)\n",
    "    with open(path) as f:\n",
    "        data = json.loads(f.readline())\n",
    "    price_list = data['prices']\n",
    "    df = pd.DataFrame(columns=['date', 'open', 'high', 'low', 'close', 'volume', 'adjclose'])\n",
    "    for price in price_list:\n",
    "        try:\n",
    "            df = df.append({\n",
    "                'date': timestamp_to_datetime(price['date']),\n",
    "                'open': price['open'],\n",
    "                'high': price['high'],\n",
    "                'low': price['low'],\n",
    "                'close': price['close'],\n",
    "                'volume': price['volume'],\n",
    "                'adjclose': price['adjclose']\n",
    "            }, ignore_index=True)\n",
    "        except:\n",
    "            pass\n",
    "    df['date'] = pd.to_datetime(df['date'])  \n",
    "    df = df.sort_values(by=['date'], ascending=True, ignore_index=True)\n",
    "    for year in range(2000, 2021):\n",
    "        mask = (df['date'] > '{}-01-01'.format(year)) & (df['date'] <= '{}-12-31'.format(year+1))\n",
    "        df1 = df.loc[mask]\n",
    "        df1['ratio'] = df1['close'] / df1['close'].mean()\n",
    "        df1['diff'] = df1['ratio'] - 1\n",
    "        path = 'data/{}/{}-{}.xlsx'.format(symbol, year, year+1)\n",
    "        df1.to_excel(path, index=False)\n",
    "        print('{} done'.format(path))"
   ]
  },
  {
   "cell_type": "code",
   "execution_count": null,
   "metadata": {},
   "outputs": [],
   "source": []
  }
 ],
 "metadata": {
  "kernelspec": {
   "display_name": "Python 3",
   "language": "python",
   "name": "python3"
  },
  "language_info": {
   "codemirror_mode": {
    "name": "ipython",
    "version": 3
   },
   "file_extension": ".py",
   "mimetype": "text/x-python",
   "name": "python",
   "nbconvert_exporter": "python",
   "pygments_lexer": "ipython3",
   "version": "3.6.12"
  }
 },
 "nbformat": 4,
 "nbformat_minor": 4
}
