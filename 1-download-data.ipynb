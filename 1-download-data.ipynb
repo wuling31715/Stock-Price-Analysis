{
 "cells": [
  {
   "cell_type": "code",
   "execution_count": 1,
   "metadata": {},
   "outputs": [],
   "source": [
    "import pandas as pd\n",
    "import requests\n",
    "from datetime import datetime"
   ]
  },
  {
   "cell_type": "code",
   "execution_count": 2,
   "metadata": {},
   "outputs": [
    {
     "name": "stdout",
     "output_type": "stream",
     "text": [
      "date_time: 2000-01-12 09:00:00\n",
      "type of dt: <class 'datetime.datetime'>\n"
     ]
    }
   ],
   "source": [
    "timestamp = 947638800\n",
    "dt_obj = datetime.fromtimestamp(timestamp)\n",
    "  \n",
    "print(\"date_time:\", dt_obj)\n",
    "print(\"type of dt:\", type(dt_obj))"
   ]
  },
  {
   "cell_type": "code",
   "execution_count": 18,
   "metadata": {},
   "outputs": [
    {
     "name": "stdout",
     "output_type": "stream",
     "text": [
      "timestamp = 946656000.0\n",
      "timestamp = 1577808000.0\n",
      "timestamp = 1625932424.788581\n"
     ]
    }
   ],
   "source": [
    "timestamp = datetime(2000, 1, 1).timestamp()\n",
    "print(\"timestamp =\", timestamp)\n",
    "\n",
    "timestamp = datetime(2020, 1, 1).timestamp()\n",
    "print(\"timestamp =\", timestamp)\n",
    "\n",
    "now = datetime.now()\n",
    "timestamp = datetime.timestamp(now)\n",
    "print(\"timestamp =\", timestamp)"
   ]
  },
  {
   "cell_type": "code",
   "execution_count": 4,
   "metadata": {},
   "outputs": [],
   "source": [
    "path = 'api-key/api-key.txt'\n",
    "with open(path) as f:\n",
    "    api_key = f.readline()"
   ]
  },
  {
   "cell_type": "code",
   "execution_count": 10,
   "metadata": {},
   "outputs": [
    {
     "name": "stdout",
     "output_type": "stream",
     "text": [
      "2615.TW\n",
      "<Response [200]>\n",
      "done\n"
     ]
    }
   ],
   "source": [
    "symbol = input()\n",
    "url = \"https://apidojo-yahoo-finance-v1.p.rapidapi.com/stock/v2/get-historical-data\"\n",
    "\n",
    "querystring = {\n",
    "    \"period1\":\"946656000\",\n",
    "    \"period2\":\"1625851293\",\n",
    "    \"symbol\":\"{}\".format(symbol),\n",
    "    \"frequency\":\"1d\",\n",
    "    \"filter\":\"history\"\n",
    "}\n",
    "\n",
    "headers = {\n",
    "    'x-rapidapi-key': \"{}\".format(api_key),\n",
    "    'x-rapidapi-host': \"apidojo-yahoo-finance-v1.p.rapidapi.com\"\n",
    "    }\n",
    "\n",
    "response = requests.request(\"GET\", url, headers=headers, params=querystring)\n",
    "print(response)\n",
    "path = 'data/{}.json'.format(symbol)\n",
    "with open(path, 'w') as f:\n",
    "    f.write(response.text)\n",
    "print('done')"
   ]
  },
  {
   "cell_type": "code",
   "execution_count": null,
   "metadata": {},
   "outputs": [],
   "source": []
  }
 ],
 "metadata": {
  "kernelspec": {
   "display_name": "Python 3",
   "language": "python",
   "name": "python3"
  },
  "language_info": {
   "codemirror_mode": {
    "name": "ipython",
    "version": 3
   },
   "file_extension": ".py",
   "mimetype": "text/x-python",
   "name": "python",
   "nbconvert_exporter": "python",
   "pygments_lexer": "ipython3",
   "version": "3.6.12"
  }
 },
 "nbformat": 4,
 "nbformat_minor": 4
}
